{
 "cells": [
  {
   "cell_type": "code",
   "execution_count": null,
   "id": "665e96fe",
   "metadata": {},
   "outputs": [],
   "source": [
    "from empiricaldist import Pmf"
   ]
  },
  {
   "cell_type": "code",
   "execution_count": null,
   "id": "912e9b93",
   "metadata": {},
   "outputs": [],
   "source": [
    "hypos = [\"BW\", \"RGB\"]\n",
    "prior = Pmf(0.5, hypos)"
   ]
  },
  {
   "cell_type": "code",
   "execution_count": null,
   "id": "2a660ee4",
   "metadata": {},
   "outputs": [],
   "source": [
    "likelihood = 1/2, 1/3\n",
    "prior *= likelihood\n",
    "prior.normalize()\n",
    "\n",
    "prior"
   ]
  }
 ],
 "metadata": {
  "kernelspec": {
   "display_name": "Python 3 (ipykernel)",
   "language": "python",
   "name": "python3"
  },
  "language_info": {
   "codemirror_mode": {
    "name": "ipython",
    "version": 3
   },
   "file_extension": ".py",
   "mimetype": "text/x-python",
   "name": "python",
   "nbconvert_exporter": "python",
   "pygments_lexer": "ipython3",
   "version": "3.8.8"
  }
 },
 "nbformat": 4,
 "nbformat_minor": 5
}
