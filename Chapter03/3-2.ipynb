{
 "cells": [
  {
   "cell_type": "code",
   "execution_count": null,
   "id": "2d9af2db",
   "metadata": {},
   "outputs": [],
   "source": [
    "from empiricaldist import Pmf\n",
    "from fractions import Fraction"
   ]
  },
  {
   "cell_type": "code",
   "execution_count": null,
   "id": "fd62b382",
   "metadata": {},
   "outputs": [],
   "source": [
    "hypos = [4, 6, 8, 12, 20]\n",
    "prior = [1, 2, 3, 4, 5]\n",
    "prior = Pmf(prior, hypos)\n",
    "prior.normalize()\n",
    "prior"
   ]
  },
  {
   "cell_type": "code",
   "execution_count": null,
   "id": "fa1d92f3",
   "metadata": {},
   "outputs": [],
   "source": [
    "hypos = prior.qs\n",
    "likelihood = ()"
   ]
  }
 ],
 "metadata": {
  "kernelspec": {
   "display_name": "Python 3 (ipykernel)",
   "language": "python",
   "name": "python3"
  },
  "language_info": {
   "codemirror_mode": {
    "name": "ipython",
    "version": 3
   },
   "file_extension": ".py",
   "mimetype": "text/x-python",
   "name": "python",
   "nbconvert_exporter": "python",
   "pygments_lexer": "ipython3",
   "version": "3.8.8"
  }
 },
 "nbformat": 4,
 "nbformat_minor": 5
}
