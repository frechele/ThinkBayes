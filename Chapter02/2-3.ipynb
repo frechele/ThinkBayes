{
 "cells": [
  {
   "cell_type": "code",
   "execution_count": 1,
   "id": "6b68628b",
   "metadata": {},
   "outputs": [],
   "source": [
    "import pandas as pd\n",
    "from fractions import Fraction"
   ]
  },
  {
   "cell_type": "code",
   "execution_count": null,
   "id": "d16b4c24",
   "metadata": {},
   "outputs": [],
   "source": [
    "table = pd.DataFrame(index=[\"Door 1\", \"Door 2\", \"Door 3\"])\n",
    "table[\"\"]"
   ]
  }
 ],
 "metadata": {
  "kernelspec": {
   "display_name": "Python 3 (ipykernel)",
   "language": "python",
   "name": "python3"
  },
  "language_info": {
   "codemirror_mode": {
    "name": "ipython",
    "version": 3
   },
   "file_extension": ".py",
   "mimetype": "text/x-python",
   "name": "python",
   "nbconvert_exporter": "python",
   "pygments_lexer": "ipython3",
   "version": "3.8.8"
  }
 },
 "nbformat": 4,
 "nbformat_minor": 5
}
